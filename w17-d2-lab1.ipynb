{
 "cells": [
  {
   "cell_type": "markdown",
   "id": "a9a2b9ea",
   "metadata": {},
   "source": [
    "# Imports"
   ]
  },
  {
   "cell_type": "code",
   "execution_count": 3,
   "id": "c8b3faa4",
   "metadata": {},
   "outputs": [],
   "source": [
    "import numpy as np\n",
    "from scipy import stats\n",
    "import pandas as pd\n",
    "import math"
   ]
  },
  {
   "cell_type": "markdown",
   "id": "927a0276",
   "metadata": {},
   "source": [
    "# Hypotesis testing\n",
    "# 1. One sample t-test"
   ]
  },
  {
   "cell_type": "markdown",
   "id": "bd6c2be9",
   "metadata": {},
   "source": [
    "It is assumed that the mean systolic blood pressure is μ = 120 mm Hg. In the Honolulu Heart Study, a sample of n = 100 people had an average systolic blood pressure of 130.1 mm Hg with a standard deviation of 21.21 mm Hg. Is the group significantly different (with respect to systolic blood pressure!) from the regular population?\n",
    "\n",
    "- Set up the hypothesis test.\n",
    "- Write down all the steps followed for setting up the test.\n",
    "- Calculate the test statistic by hand and also code it in Python. It should be 4.76190. We will take a look at how to make decisions based on this calculated value."
   ]
  },
  {
   "cell_type": "markdown",
   "id": "a6f02f2a",
   "metadata": {},
   "source": [
    "### Task"
   ]
  },
  {
   "cell_type": "markdown",
   "id": "f4b02991",
   "metadata": {},
   "source": [
    "**significance level = 0.05 (95% confidence)  \n",
    "goal: check if the blood pressure of the sample is significantly different from the regular population (120 mmHG)**"
   ]
  },
  {
   "cell_type": "markdown",
   "id": "c61cb883",
   "metadata": {},
   "source": [
    "### Set up hypotesis"
   ]
  },
  {
   "cell_type": "markdown",
   "id": "32564fa1",
   "metadata": {},
   "source": [
    "**- H0: There is NO difference between the blood pressure of the grup and the regular population.**  \n",
    "    This means that we can say that the sample group has a mean blood pressure of 120 and wouldn't make much of a difference, because the difference between the mean distribution is within the confidence intervals of acceptance.  \n",
    "    H0: µ = \n",
    "\n",
    "\n",
    "**- HA: There is some significant difference between the blood pressure of the group and the regular population.**  \n",
    "    This means that we can't say that the sample group has a mean blood pressure of 120, because the sample group has enought evidence to be considered outside of the set up confidence intervals.  \n",
    "    Ha: µ ≠ 15"
   ]
  },
  {
   "cell_type": "markdown",
   "id": "856cd4de",
   "metadata": {},
   "source": [
    "### Define the problem"
   ]
  },
  {
   "cell_type": "markdown",
   "id": "88f55035",
   "metadata": {},
   "source": [
    "The probability of an average systolic blood pressure of 130.1 mm Hg of the sample being statistically equal to the average of the population (120 mm Hg) with an level of confidence of 0.05 is equal to the probability of t-critical value being bigger than our t-statistic value.\n",
    "\n",
    "- P(μ_sample = 120)\n",
    "- P(t-critical > t-statistics) \n",
    "- P(t-critical > (mean_difference / standard_error))\n",
    "- P(t-critical > (μ_sample - μ_population) / (std / sqr(n))"
   ]
  },
  {
   "cell_type": "markdown",
   "id": "50a58f66",
   "metadata": {},
   "source": [
    "### Set up confidence - t-critical value"
   ]
  },
  {
   "cell_type": "markdown",
   "id": "b13c152d",
   "metadata": {},
   "source": [
    "Determining a t-critical value from the Z distribution. How likely are we to reject the Null Hypotesis when it is actually true (Type I error rate).\n",
    "\n",
    "- α = Level of significance = P(Type I error) = P(Reject H0 | H0 is true) = 0.05 (95% of confidence)  \n",
    "- dof (degrees of freedom) = n - 1 = 99  \n",
    "- t-critical = 1.984 (from tables, two tailed test)"
   ]
  },
  {
   "cell_type": "markdown",
   "id": "a23daa9d",
   "metadata": {},
   "source": [
    "### Calculating our t-statistics"
   ]
  },
  {
   "cell_type": "code",
   "execution_count": 4,
   "id": "c7470706",
   "metadata": {},
   "outputs": [
    {
     "name": "stdout",
     "output_type": "stream",
     "text": [
      "4.762\n"
     ]
    }
   ],
   "source": [
    "difference_between_means = 130.1 - 120\n",
    "standard_error_for_the_mean = 21.21 / math.sqrt(100)\n",
    "t = round((difference_between_means / standard_error_for_the_mean), 3)\n",
    "print(t)"
   ]
  },
  {
   "cell_type": "markdown",
   "id": "05fb23a8",
   "metadata": {},
   "source": [
    "### Results"
   ]
  },
  {
   "cell_type": "code",
   "execution_count": 11,
   "id": "ed53a4a7",
   "metadata": {},
   "outputs": [
    {
     "data": {
      "text/plain": [
       "False"
      ]
     },
     "execution_count": 11,
     "metadata": {},
     "output_type": "execute_result"
    }
   ],
   "source": [
    "t_critical = 1.984  # t_critical is usually written as t_0.05_99\n",
    "                    # as it is a two sided test, this t_critical is in fact +/- 1.984\n",
    "t_statistics = t\n",
    "\n",
    "t_critical > t_statistics"
   ]
  },
  {
   "cell_type": "markdown",
   "id": "10814d42",
   "metadata": {},
   "source": [
    "### Conclusions"
   ]
  },
  {
   "cell_type": "markdown",
   "id": "94027005",
   "metadata": {},
   "source": [
    "Our t-statistics is more extreme than the t-critical value.  \n",
    "This means that the t-statistic value does not lie between the accepted margins of -1.984 and +1.984. So we can reject the null hypothesis, that the mean of the sample is equal to the mean of the population.  \n",
    "And in that case, we have statistical evidence to say that the mean of 130.1 mm Hg is statistically different from the mean of 120 mm Hg."
   ]
  },
  {
   "cell_type": "markdown",
   "id": "aa560c8c",
   "metadata": {},
   "source": [
    "### Checking results"
   ]
  },
  {
   "cell_type": "markdown",
   "id": "777f9c6e",
   "metadata": {},
   "source": [
    "We are checking the conclusions calculating the p-value.  \n",
    "To calculate the p-value, we will use the survival function (sf = 1 - cdf (cumulative distribution function)) for the given t-statistics value and dof."
   ]
  },
  {
   "cell_type": "code",
   "execution_count": 33,
   "id": "d19948c8",
   "metadata": {},
   "outputs": [],
   "source": [
    "t_stat = t\n",
    "dof = 99\n",
    "alpha = 0.05"
   ]
  },
  {
   "cell_type": "code",
   "execution_count": 30,
   "id": "1ac751b4",
   "metadata": {},
   "outputs": [],
   "source": [
    "p_value = stats.t.sf(abs(t_stat), df=dof)*2 # multiply by two as it is a two sided test\n",
    "# 2*(1 - stats.t.cdf(abs(t), df=dof)) -- same results"
   ]
  },
  {
   "cell_type": "code",
   "execution_count": 32,
   "id": "2b084a65",
   "metadata": {},
   "outputs": [
    {
     "name": "stdout",
     "output_type": "stream",
     "text": [
      "6.560183365621503e-06\n"
     ]
    }
   ],
   "source": [
    "print(p_value)"
   ]
  },
  {
   "cell_type": "code",
   "execution_count": 34,
   "id": "3fa9fc93",
   "metadata": {},
   "outputs": [
    {
     "data": {
      "text/plain": [
       "True"
      ]
     },
     "execution_count": 34,
     "metadata": {},
     "output_type": "execute_result"
    }
   ],
   "source": [
    "alpha > p_value"
   ]
  },
  {
   "cell_type": "markdown",
   "id": "63bdcdb6",
   "metadata": {},
   "source": [
    "We can reject the Null Hipotesis."
   ]
  },
  {
   "cell_type": "code",
   "execution_count": null,
   "id": "08295dbe",
   "metadata": {},
   "outputs": [],
   "source": []
  }
 ],
 "metadata": {
  "kernelspec": {
   "display_name": "Python 3 (ipykernel)",
   "language": "python",
   "name": "python3"
  },
  "language_info": {
   "codemirror_mode": {
    "name": "ipython",
    "version": 3
   },
   "file_extension": ".py",
   "mimetype": "text/x-python",
   "name": "python",
   "nbconvert_exporter": "python",
   "pygments_lexer": "ipython3",
   "version": "3.9.12"
  }
 },
 "nbformat": 4,
 "nbformat_minor": 5
}
